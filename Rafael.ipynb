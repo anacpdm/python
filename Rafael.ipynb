{
  "nbformat": 4,
  "nbformat_minor": 0,
  "metadata": {
    "colab": {
      "provenance": [],
      "authorship_tag": "ABX9TyP4zfcB3yuxFzTC3g2ZcD6d",
      "include_colab_link": true
    },
    "kernelspec": {
      "name": "python3",
      "display_name": "Python 3"
    },
    "language_info": {
      "name": "python"
    }
  },
  "cells": [
    {
      "cell_type": "markdown",
      "metadata": {
        "id": "view-in-github",
        "colab_type": "text"
      },
      "source": [
        "<a href=\"https://colab.research.google.com/github/anacpdm/python/blob/main/Rafael.ipynb\" target=\"_parent\"><img src=\"https://colab.research.google.com/assets/colab-badge.svg\" alt=\"Open In Colab\"/></a>"
      ]
    },
    {
      "cell_type": "code",
      "source": [
        "numero_pessoas = int(input(\"Digite o total de pessoas\"))\n",
        "if numero_pessoas <= 14:\n",
        "  print(f\"Alugar uma Van\")\n",
        "elif 14 < numero_pessoas <= 28:\n",
        "  print(f\"Alugar duas Vans\")\n",
        "elif 28 < numero_pessoas < 42:\n",
        "  print(f\"Alugar três Vans\")\n",
        "elif 42 <= numero_pessoas <= 45:\n",
        "  print(f\"Alugar um Ônibus\")\n",
        "elif 45 <= numero_pessoas <= 59:\n",
        "  print(f\"Alugar um Ônibus e uma Van\")\n",
        "elif 59 <= numero_pessoas <= 73:\n",
        "  print(f\"Alugar um Ônibus e 2 Vans\")\n",
        "elif 73 <= numero_pessoas <= 87:\n",
        "  print(f\"Alugar um Ônibus e 3 Vans\")\n",
        "else: # numero_pessoas > 90\n",
        "  print(f\"Alugar dois Ônibus\")"
      ],
      "metadata": {
        "colab": {
          "base_uri": "https://localhost:8080/"
        },
        "id": "G9gzBASh9Q_A",
        "outputId": "356d0bd9-8a82-4c48-dc5a-491d15fed652"
      },
      "execution_count": 14,
      "outputs": [
        {
          "output_type": "stream",
          "name": "stdout",
          "text": [
            "Digite o total de pessoas74\n",
            "Alugar um Ônibus e 3 Vans\n"
          ]
        }
      ]
    }
  ]
}