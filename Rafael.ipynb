{
  "nbformat": 4,
  "nbformat_minor": 0,
  "metadata": {
    "colab": {
      "provenance": [],
      "authorship_tag": "ABX9TyPJscB5Yr/kXvRWLh9MXIMq",
      "include_colab_link": true
    },
    "kernelspec": {
      "name": "python3",
      "display_name": "Python 3"
    },
    "language_info": {
      "name": "python"
    }
  },
  "cells": [
    {
      "cell_type": "markdown",
      "metadata": {
        "id": "view-in-github",
        "colab_type": "text"
      },
      "source": [
        "<a href=\"https://colab.research.google.com/github/anacpdm/python/blob/main/Rafael.ipynb\" target=\"_parent\"><img src=\"https://colab.research.google.com/assets/colab-badge.svg\" alt=\"Open In Colab\"/></a>"
      ]
    },
    {
      "cell_type": "code",
      "source": [
        "numero_pessoas = int(input(\"Digite o total de pessoas\"))\n",
        "if numero_pessoas <=14:\n",
        "  print(f\"Alugar uma Van\")\n",
        "elif 14 <numero_pessoas <= 32:\n",
        "  print(f\"Alugar duas Vans\")\n",
        "elif 32 <numero_pessoas < 42:\n",
        "  print(f\"Alugar três Vans\")\n",
        "else: # numero_pessoas >= 42\n",
        "  print(f\"Alugar um Ônibus\")"
      ],
      "metadata": {
        "colab": {
          "base_uri": "https://localhost:8080/"
        },
        "id": "G9gzBASh9Q_A",
        "outputId": "fdcb75bb-58e6-4551-e95a-92d354cfb5ad"
      },
      "execution_count": null,
      "outputs": [
        {
          "output_type": "stream",
          "name": "stdout",
          "text": [
            "Digite o total de pessoas22\n",
            "Alugar duas Vans\n"
          ]
        }
      ]
    }
  ]
}